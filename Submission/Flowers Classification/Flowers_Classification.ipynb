{
  "nbformat": 4,
  "nbformat_minor": 0,
  "metadata": {
    "colab": {
      "provenance": [],
      "collapsed_sections": []
    },
    "kernelspec": {
      "name": "python3",
      "display_name": "Python 3"
    },
    "language_info": {
      "name": "python"
    },
    "widgets": {
      "application/vnd.jupyter.widget-state+json": {
        "4bc3c63a50774e88bf175d253d3ef9aa": {
          "model_module": "@jupyter-widgets/controls",
          "model_name": "HBoxModel",
          "model_module_version": "1.5.0",
          "state": {
            "_dom_classes": [],
            "_model_module": "@jupyter-widgets/controls",
            "_model_module_version": "1.5.0",
            "_model_name": "HBoxModel",
            "_view_count": null,
            "_view_module": "@jupyter-widgets/controls",
            "_view_module_version": "1.5.0",
            "_view_name": "HBoxView",
            "box_style": "",
            "children": [
              "IPY_MODEL_3ac420409e794e208c5366496ed1c85b",
              "IPY_MODEL_58f4851e60e14b01afcea1d70e6e8c0b",
              "IPY_MODEL_8da41cab049b42718fce0dc4ab395d7f"
            ],
            "layout": "IPY_MODEL_f435f14f47664083959388848b207f4f"
          }
        },
        "3ac420409e794e208c5366496ed1c85b": {
          "model_module": "@jupyter-widgets/controls",
          "model_name": "HTMLModel",
          "model_module_version": "1.5.0",
          "state": {
            "_dom_classes": [],
            "_model_module": "@jupyter-widgets/controls",
            "_model_module_version": "1.5.0",
            "_model_name": "HTMLModel",
            "_view_count": null,
            "_view_module": "@jupyter-widgets/controls",
            "_view_module_version": "1.5.0",
            "_view_name": "HTMLView",
            "description": "",
            "description_tooltip": null,
            "layout": "IPY_MODEL_f279630076814a509d36b6b24bf4f0c5",
            "placeholder": "​",
            "style": "IPY_MODEL_3e681d09be49459f8462807b0b4db764",
            "value": ""
          }
        },
        "58f4851e60e14b01afcea1d70e6e8c0b": {
          "model_module": "@jupyter-widgets/controls",
          "model_name": "FloatProgressModel",
          "model_module_version": "1.5.0",
          "state": {
            "_dom_classes": [],
            "_model_module": "@jupyter-widgets/controls",
            "_model_module_version": "1.5.0",
            "_model_name": "FloatProgressModel",
            "_view_count": null,
            "_view_module": "@jupyter-widgets/controls",
            "_view_module_version": "1.5.0",
            "_view_name": "ProgressView",
            "bar_style": "success",
            "description": "",
            "description_tooltip": null,
            "layout": "IPY_MODEL_48acbadbbf804acf8ed79a1de288511d",
            "max": 1,
            "min": 0,
            "orientation": "horizontal",
            "style": "IPY_MODEL_2d6102c8d69b47b3a23ec710acf19632",
            "value": 1
          }
        },
        "8da41cab049b42718fce0dc4ab395d7f": {
          "model_module": "@jupyter-widgets/controls",
          "model_name": "HTMLModel",
          "model_module_version": "1.5.0",
          "state": {
            "_dom_classes": [],
            "_model_module": "@jupyter-widgets/controls",
            "_model_module_version": "1.5.0",
            "_model_name": "HTMLModel",
            "_view_count": null,
            "_view_module": "@jupyter-widgets/controls",
            "_view_module_version": "1.5.0",
            "_view_name": "HTMLView",
            "description": "",
            "description_tooltip": null,
            "layout": "IPY_MODEL_2ddfd4c8f57b4c3ca937509e8dfe3bff",
            "placeholder": "​",
            "style": "IPY_MODEL_ae6a78464be54b3da6a51b8197f33249",
            "value": " 4317/? [00:01&lt;00:00, 3105.11it/s]"
          }
        },
        "f435f14f47664083959388848b207f4f": {
          "model_module": "@jupyter-widgets/base",
          "model_name": "LayoutModel",
          "model_module_version": "1.2.0",
          "state": {
            "_model_module": "@jupyter-widgets/base",
            "_model_module_version": "1.2.0",
            "_model_name": "LayoutModel",
            "_view_count": null,
            "_view_module": "@jupyter-widgets/base",
            "_view_module_version": "1.2.0",
            "_view_name": "LayoutView",
            "align_content": null,
            "align_items": null,
            "align_self": null,
            "border": null,
            "bottom": null,
            "display": null,
            "flex": null,
            "flex_flow": null,
            "grid_area": null,
            "grid_auto_columns": null,
            "grid_auto_flow": null,
            "grid_auto_rows": null,
            "grid_column": null,
            "grid_gap": null,
            "grid_row": null,
            "grid_template_areas": null,
            "grid_template_columns": null,
            "grid_template_rows": null,
            "height": null,
            "justify_content": null,
            "justify_items": null,
            "left": null,
            "margin": null,
            "max_height": null,
            "max_width": null,
            "min_height": null,
            "min_width": null,
            "object_fit": null,
            "object_position": null,
            "order": null,
            "overflow": null,
            "overflow_x": null,
            "overflow_y": null,
            "padding": null,
            "right": null,
            "top": null,
            "visibility": null,
            "width": null
          }
        },
        "f279630076814a509d36b6b24bf4f0c5": {
          "model_module": "@jupyter-widgets/base",
          "model_name": "LayoutModel",
          "model_module_version": "1.2.0",
          "state": {
            "_model_module": "@jupyter-widgets/base",
            "_model_module_version": "1.2.0",
            "_model_name": "LayoutModel",
            "_view_count": null,
            "_view_module": "@jupyter-widgets/base",
            "_view_module_version": "1.2.0",
            "_view_name": "LayoutView",
            "align_content": null,
            "align_items": null,
            "align_self": null,
            "border": null,
            "bottom": null,
            "display": null,
            "flex": null,
            "flex_flow": null,
            "grid_area": null,
            "grid_auto_columns": null,
            "grid_auto_flow": null,
            "grid_auto_rows": null,
            "grid_column": null,
            "grid_gap": null,
            "grid_row": null,
            "grid_template_areas": null,
            "grid_template_columns": null,
            "grid_template_rows": null,
            "height": null,
            "justify_content": null,
            "justify_items": null,
            "left": null,
            "margin": null,
            "max_height": null,
            "max_width": null,
            "min_height": null,
            "min_width": null,
            "object_fit": null,
            "object_position": null,
            "order": null,
            "overflow": null,
            "overflow_x": null,
            "overflow_y": null,
            "padding": null,
            "right": null,
            "top": null,
            "visibility": null,
            "width": null
          }
        },
        "3e681d09be49459f8462807b0b4db764": {
          "model_module": "@jupyter-widgets/controls",
          "model_name": "DescriptionStyleModel",
          "model_module_version": "1.5.0",
          "state": {
            "_model_module": "@jupyter-widgets/controls",
            "_model_module_version": "1.5.0",
            "_model_name": "DescriptionStyleModel",
            "_view_count": null,
            "_view_module": "@jupyter-widgets/base",
            "_view_module_version": "1.2.0",
            "_view_name": "StyleView",
            "description_width": ""
          }
        },
        "48acbadbbf804acf8ed79a1de288511d": {
          "model_module": "@jupyter-widgets/base",
          "model_name": "LayoutModel",
          "model_module_version": "1.2.0",
          "state": {
            "_model_module": "@jupyter-widgets/base",
            "_model_module_version": "1.2.0",
            "_model_name": "LayoutModel",
            "_view_count": null,
            "_view_module": "@jupyter-widgets/base",
            "_view_module_version": "1.2.0",
            "_view_name": "LayoutView",
            "align_content": null,
            "align_items": null,
            "align_self": null,
            "border": null,
            "bottom": null,
            "display": null,
            "flex": null,
            "flex_flow": null,
            "grid_area": null,
            "grid_auto_columns": null,
            "grid_auto_flow": null,
            "grid_auto_rows": null,
            "grid_column": null,
            "grid_gap": null,
            "grid_row": null,
            "grid_template_areas": null,
            "grid_template_columns": null,
            "grid_template_rows": null,
            "height": null,
            "justify_content": null,
            "justify_items": null,
            "left": null,
            "margin": null,
            "max_height": null,
            "max_width": null,
            "min_height": null,
            "min_width": null,
            "object_fit": null,
            "object_position": null,
            "order": null,
            "overflow": null,
            "overflow_x": null,
            "overflow_y": null,
            "padding": null,
            "right": null,
            "top": null,
            "visibility": null,
            "width": "20px"
          }
        },
        "2d6102c8d69b47b3a23ec710acf19632": {
          "model_module": "@jupyter-widgets/controls",
          "model_name": "ProgressStyleModel",
          "model_module_version": "1.5.0",
          "state": {
            "_model_module": "@jupyter-widgets/controls",
            "_model_module_version": "1.5.0",
            "_model_name": "ProgressStyleModel",
            "_view_count": null,
            "_view_module": "@jupyter-widgets/base",
            "_view_module_version": "1.2.0",
            "_view_name": "StyleView",
            "bar_color": null,
            "description_width": ""
          }
        },
        "2ddfd4c8f57b4c3ca937509e8dfe3bff": {
          "model_module": "@jupyter-widgets/base",
          "model_name": "LayoutModel",
          "model_module_version": "1.2.0",
          "state": {
            "_model_module": "@jupyter-widgets/base",
            "_model_module_version": "1.2.0",
            "_model_name": "LayoutModel",
            "_view_count": null,
            "_view_module": "@jupyter-widgets/base",
            "_view_module_version": "1.2.0",
            "_view_name": "LayoutView",
            "align_content": null,
            "align_items": null,
            "align_self": null,
            "border": null,
            "bottom": null,
            "display": null,
            "flex": null,
            "flex_flow": null,
            "grid_area": null,
            "grid_auto_columns": null,
            "grid_auto_flow": null,
            "grid_auto_rows": null,
            "grid_column": null,
            "grid_gap": null,
            "grid_row": null,
            "grid_template_areas": null,
            "grid_template_columns": null,
            "grid_template_rows": null,
            "height": null,
            "justify_content": null,
            "justify_items": null,
            "left": null,
            "margin": null,
            "max_height": null,
            "max_width": null,
            "min_height": null,
            "min_width": null,
            "object_fit": null,
            "object_position": null,
            "order": null,
            "overflow": null,
            "overflow_x": null,
            "overflow_y": null,
            "padding": null,
            "right": null,
            "top": null,
            "visibility": null,
            "width": null
          }
        },
        "ae6a78464be54b3da6a51b8197f33249": {
          "model_module": "@jupyter-widgets/controls",
          "model_name": "DescriptionStyleModel",
          "model_module_version": "1.5.0",
          "state": {
            "_model_module": "@jupyter-widgets/controls",
            "_model_module_version": "1.5.0",
            "_model_name": "DescriptionStyleModel",
            "_view_count": null,
            "_view_module": "@jupyter-widgets/base",
            "_view_module_version": "1.2.0",
            "_view_name": "StyleView",
            "description_width": ""
          }
        }
      }
    },
    "accelerator": "GPU",
    "gpuClass": "standard"
  },
  "cells": [
    {
      "cell_type": "markdown",
      "source": [
        "# Data Diri"
      ],
      "metadata": {
        "id": "M42ZAdWBo0Yr"
      }
    },
    {
      "cell_type": "markdown",
      "source": [
        "nama: Asis Rianto \\\n",
        "email: asisrianto2@gmail.com \\\n",
        "username: asisrianto \\\n",
        "\n",
        "---"
      ],
      "metadata": {
        "id": "RxT63Gmlo3mU"
      }
    },
    {
      "cell_type": "markdown",
      "source": [
        "Import The Libraries"
      ],
      "metadata": {
        "id": "RRHmy7i2oqRR"
      }
    },
    {
      "cell_type": "code",
      "source": [
        "import zipfile, os\n",
        "import shutil\n",
        "from google.colab import files\n",
        "import tensorflow as tf  \n",
        "from tensorflow.keras.preprocessing.image import ImageDataGenerator\n",
        "from tensorflow.keras.utils import load_img, img_to_array\n",
        "from sklearn.model_selection import train_test_split\n",
        "import pandas as pd\n",
        "import numpy as np\n",
        "import time\n",
        "from tqdm.notebook import tqdm as tq\n",
        "import matplotlib.pyplot as plt\n",
        "import matplotlib.image as mpimg\n",
        "%matplotlib inline"
      ],
      "metadata": {
        "id": "lFBLDAtSuYAu"
      },
      "execution_count": 1,
      "outputs": []
    },
    {
      "cell_type": "markdown",
      "source": [
        "# Data Preparation"
      ],
      "metadata": {
        "id": "7e9Ukvr9onXf"
      }
    },
    {
      "cell_type": "code",
      "execution_count": 2,
      "metadata": {
        "colab": {
          "base_uri": "https://localhost:8080/"
        },
        "id": "8G5Kdk8pi5zx",
        "outputId": "b0f93e61-d38e-497c-f4bd-5d69a4b27d82"
      },
      "outputs": [
        {
          "output_type": "stream",
          "name": "stdout",
          "text": [
            "Drive already mounted at /content/drive; to attempt to forcibly remount, call drive.mount(\"/content/drive\", force_remount=True).\n"
          ]
        }
      ],
      "source": [
        "from google.colab import drive\n",
        "drive.mount('/content/drive')"
      ]
    },
    {
      "cell_type": "code",
      "source": [
        "#extract the dataset\n",
        "local_zip = '/content/drive/MyDrive/Dataset/Flowers.zip'\n",
        "zip_ref = zipfile.ZipFile(local_zip, 'r')\n",
        "zip_ref.extractall('/content')\n",
        "zip_ref.close()"
      ],
      "metadata": {
        "id": "66kspb3YsDm2"
      },
      "execution_count": 3,
      "outputs": []
    },
    {
      "cell_type": "code",
      "source": [
        "#define variable for feature and label\n",
        "features = []\n",
        "labels = []\n",
        "\n",
        "for path, subdirs, files in os.walk('/content/flowers'):\n",
        "  for name in files:\n",
        "    features.append(os.path.join(path, name))\n",
        "    labels.append(path.split('/')[-1])"
      ],
      "metadata": {
        "id": "DP5zsxGEqpbY"
      },
      "execution_count": 4,
      "outputs": []
    },
    {
      "cell_type": "code",
      "source": [
        "#split the dataset into training data and validation data\n",
        "feature_train, feature_test, label_train, label_test = train_test_split(features, labels, test_size=0.20, random_state=300)"
      ],
      "metadata": {
        "id": "uJ46WR5arP2T"
      },
      "execution_count": 5,
      "outputs": []
    },
    {
      "cell_type": "code",
      "source": [
        "#create dataframe\n",
        "df_training = pd.DataFrame({'features':feature_train, 'labels':label_train, 'set':'training'})\n",
        "df_validation = pd.DataFrame({'features':feature_test, 'labels':label_test, 'set':'validation'})\n",
        "df_dataset = df_training.append([df_validation]).reset_index(drop=1)\n",
        "\n",
        "#check the number of training data and validation data\n",
        "print('number of training data: ', len(df_training))\n",
        "print('number of validation data: ', len(df_validation))\n",
        "\n",
        "print(df_dataset.groupby(['set', 'labels']).size(), '\\n')\n",
        "df_dataset.sample(5)"
      ],
      "metadata": {
        "colab": {
          "base_uri": "https://localhost:8080/",
          "height": 483
        },
        "id": "wFxcpwaYsRE5",
        "outputId": "a06b89a2-5958-4dd5-e7a5-28d571df4a05"
      },
      "execution_count": 6,
      "outputs": [
        {
          "output_type": "stream",
          "name": "stdout",
          "text": [
            "number of training data:  3453\n",
            "number of validation data:  864\n",
            "set         labels   \n",
            "training    daisy        608\n",
            "            dandelion    849\n",
            "            rose         641\n",
            "            sunflower    576\n",
            "            tulip        779\n",
            "validation  daisy        156\n",
            "            dandelion    203\n",
            "            rose         143\n",
            "            sunflower    157\n",
            "            tulip        205\n",
            "dtype: int64 \n",
            "\n"
          ]
        },
        {
          "output_type": "execute_result",
          "data": {
            "text/plain": [
              "                                               features     labels       set\n",
              "1261  /content/flowers/sunflower/14646281372_5f13794...  sunflower  training\n",
              "2821  /content/flowers/dandelion/9726260379_4e8ee668...  dandelion  training\n",
              "2713  /content/flowers/dandelion/16096748028_7876887...  dandelion  training\n",
              "773   /content/flowers/rose/5990626258_697f007308_n.jpg       rose  training\n",
              "430   /content/flowers/sunflower/6002598514_22a9a404...  sunflower  training"
            ],
            "text/html": [
              "\n",
              "  <div id=\"df-ead40aba-93ce-4e64-a149-d997bc227ca3\">\n",
              "    <div class=\"colab-df-container\">\n",
              "      <div>\n",
              "<style scoped>\n",
              "    .dataframe tbody tr th:only-of-type {\n",
              "        vertical-align: middle;\n",
              "    }\n",
              "\n",
              "    .dataframe tbody tr th {\n",
              "        vertical-align: top;\n",
              "    }\n",
              "\n",
              "    .dataframe thead th {\n",
              "        text-align: right;\n",
              "    }\n",
              "</style>\n",
              "<table border=\"1\" class=\"dataframe\">\n",
              "  <thead>\n",
              "    <tr style=\"text-align: right;\">\n",
              "      <th></th>\n",
              "      <th>features</th>\n",
              "      <th>labels</th>\n",
              "      <th>set</th>\n",
              "    </tr>\n",
              "  </thead>\n",
              "  <tbody>\n",
              "    <tr>\n",
              "      <th>1261</th>\n",
              "      <td>/content/flowers/sunflower/14646281372_5f13794...</td>\n",
              "      <td>sunflower</td>\n",
              "      <td>training</td>\n",
              "    </tr>\n",
              "    <tr>\n",
              "      <th>2821</th>\n",
              "      <td>/content/flowers/dandelion/9726260379_4e8ee668...</td>\n",
              "      <td>dandelion</td>\n",
              "      <td>training</td>\n",
              "    </tr>\n",
              "    <tr>\n",
              "      <th>2713</th>\n",
              "      <td>/content/flowers/dandelion/16096748028_7876887...</td>\n",
              "      <td>dandelion</td>\n",
              "      <td>training</td>\n",
              "    </tr>\n",
              "    <tr>\n",
              "      <th>773</th>\n",
              "      <td>/content/flowers/rose/5990626258_697f007308_n.jpg</td>\n",
              "      <td>rose</td>\n",
              "      <td>training</td>\n",
              "    </tr>\n",
              "    <tr>\n",
              "      <th>430</th>\n",
              "      <td>/content/flowers/sunflower/6002598514_22a9a404...</td>\n",
              "      <td>sunflower</td>\n",
              "      <td>training</td>\n",
              "    </tr>\n",
              "  </tbody>\n",
              "</table>\n",
              "</div>\n",
              "      <button class=\"colab-df-convert\" onclick=\"convertToInteractive('df-ead40aba-93ce-4e64-a149-d997bc227ca3')\"\n",
              "              title=\"Convert this dataframe to an interactive table.\"\n",
              "              style=\"display:none;\">\n",
              "        \n",
              "  <svg xmlns=\"http://www.w3.org/2000/svg\" height=\"24px\"viewBox=\"0 0 24 24\"\n",
              "       width=\"24px\">\n",
              "    <path d=\"M0 0h24v24H0V0z\" fill=\"none\"/>\n",
              "    <path d=\"M18.56 5.44l.94 2.06.94-2.06 2.06-.94-2.06-.94-.94-2.06-.94 2.06-2.06.94zm-11 1L8.5 8.5l.94-2.06 2.06-.94-2.06-.94L8.5 2.5l-.94 2.06-2.06.94zm10 10l.94 2.06.94-2.06 2.06-.94-2.06-.94-.94-2.06-.94 2.06-2.06.94z\"/><path d=\"M17.41 7.96l-1.37-1.37c-.4-.4-.92-.59-1.43-.59-.52 0-1.04.2-1.43.59L10.3 9.45l-7.72 7.72c-.78.78-.78 2.05 0 2.83L4 21.41c.39.39.9.59 1.41.59.51 0 1.02-.2 1.41-.59l7.78-7.78 2.81-2.81c.8-.78.8-2.07 0-2.86zM5.41 20L4 18.59l7.72-7.72 1.47 1.35L5.41 20z\"/>\n",
              "  </svg>\n",
              "      </button>\n",
              "      \n",
              "  <style>\n",
              "    .colab-df-container {\n",
              "      display:flex;\n",
              "      flex-wrap:wrap;\n",
              "      gap: 12px;\n",
              "    }\n",
              "\n",
              "    .colab-df-convert {\n",
              "      background-color: #E8F0FE;\n",
              "      border: none;\n",
              "      border-radius: 50%;\n",
              "      cursor: pointer;\n",
              "      display: none;\n",
              "      fill: #1967D2;\n",
              "      height: 32px;\n",
              "      padding: 0 0 0 0;\n",
              "      width: 32px;\n",
              "    }\n",
              "\n",
              "    .colab-df-convert:hover {\n",
              "      background-color: #E2EBFA;\n",
              "      box-shadow: 0px 1px 2px rgba(60, 64, 67, 0.3), 0px 1px 3px 1px rgba(60, 64, 67, 0.15);\n",
              "      fill: #174EA6;\n",
              "    }\n",
              "\n",
              "    [theme=dark] .colab-df-convert {\n",
              "      background-color: #3B4455;\n",
              "      fill: #D2E3FC;\n",
              "    }\n",
              "\n",
              "    [theme=dark] .colab-df-convert:hover {\n",
              "      background-color: #434B5C;\n",
              "      box-shadow: 0px 1px 3px 1px rgba(0, 0, 0, 0.15);\n",
              "      filter: drop-shadow(0px 1px 2px rgba(0, 0, 0, 0.3));\n",
              "      fill: #FFFFFF;\n",
              "    }\n",
              "  </style>\n",
              "\n",
              "      <script>\n",
              "        const buttonEl =\n",
              "          document.querySelector('#df-ead40aba-93ce-4e64-a149-d997bc227ca3 button.colab-df-convert');\n",
              "        buttonEl.style.display =\n",
              "          google.colab.kernel.accessAllowed ? 'block' : 'none';\n",
              "\n",
              "        async function convertToInteractive(key) {\n",
              "          const element = document.querySelector('#df-ead40aba-93ce-4e64-a149-d997bc227ca3');\n",
              "          const dataTable =\n",
              "            await google.colab.kernel.invokeFunction('convertToInteractive',\n",
              "                                                     [key], {});\n",
              "          if (!dataTable) return;\n",
              "\n",
              "          const docLinkHtml = 'Like what you see? Visit the ' +\n",
              "            '<a target=\"_blank\" href=https://colab.research.google.com/notebooks/data_table.ipynb>data table notebook</a>'\n",
              "            + ' to learn more about interactive tables.';\n",
              "          element.innerHTML = '';\n",
              "          dataTable['output_type'] = 'display_data';\n",
              "          await google.colab.output.renderOutput(dataTable, element);\n",
              "          const docLink = document.createElement('div');\n",
              "          docLink.innerHTML = docLinkHtml;\n",
              "          element.appendChild(docLink);\n",
              "        }\n",
              "      </script>\n",
              "    </div>\n",
              "  </div>\n",
              "  "
            ]
          },
          "metadata": {},
          "execution_count": 6
        }
      ]
    },
    {
      "cell_type": "code",
      "source": [
        "#put files into each directory\n",
        "\n",
        "origin_dir = '/content/flowers'\n",
        "destination_dir = '/dataset/'\n",
        "\n",
        "for index, row in tq(df_dataset.iterrows(), ):\n",
        "\n",
        "  #detect file path\n",
        "  file_path = row['features']\n",
        "  if os.path.exists(file_path) == False:\n",
        "    file_path = os.path.join(origin_dir, row['labels'], row['image'].split('.')[0])\n",
        "\n",
        "  #make folder destination dirs\n",
        "  if os.path.exists(os.path.join(destination_dir, row['set'], row['labels'])) == False:\n",
        "    os.makedirs(os.path.join(destination_dir, row['set'], row['labels']))\n",
        "\n",
        "  #define file destination\n",
        "  destination_file_name = file_path.split('/')[-1]\n",
        "  file_destination = os.path.join(destination_dir, row['set'], row['labels'], destination_file_name)\n",
        "\n",
        "  #copy file from source to dest\n",
        "  if os.path.exists(file_destination) == False:\n",
        "    shutil.copy(file_path, file_destination)"
      ],
      "metadata": {
        "colab": {
          "base_uri": "https://localhost:8080/",
          "height": 49,
          "referenced_widgets": [
            "4bc3c63a50774e88bf175d253d3ef9aa",
            "3ac420409e794e208c5366496ed1c85b",
            "58f4851e60e14b01afcea1d70e6e8c0b",
            "8da41cab049b42718fce0dc4ab395d7f",
            "f435f14f47664083959388848b207f4f",
            "f279630076814a509d36b6b24bf4f0c5",
            "3e681d09be49459f8462807b0b4db764",
            "48acbadbbf804acf8ed79a1de288511d",
            "2d6102c8d69b47b3a23ec710acf19632",
            "2ddfd4c8f57b4c3ca937509e8dfe3bff",
            "ae6a78464be54b3da6a51b8197f33249"
          ]
        },
        "id": "-V61aEqBsRTN",
        "outputId": "1e86e248-556a-4cda-83df-93358f2d028b"
      },
      "execution_count": 7,
      "outputs": [
        {
          "output_type": "display_data",
          "data": {
            "text/plain": [
              "0it [00:00, ?it/s]"
            ],
            "application/vnd.jupyter.widget-view+json": {
              "version_major": 2,
              "version_minor": 0,
              "model_id": "4bc3c63a50774e88bf175d253d3ef9aa"
            }
          },
          "metadata": {}
        }
      ]
    },
    {
      "cell_type": "code",
      "source": [
        "#check training directory\n",
        "training_set = os.path.join(destination_dir, 'training')\n",
        "os.listdir(training_set)"
      ],
      "metadata": {
        "colab": {
          "base_uri": "https://localhost:8080/"
        },
        "id": "qM9uWOnZznHZ",
        "outputId": "ba0ff66d-f858-4fa1-c168-2aff61df204d"
      },
      "execution_count": 8,
      "outputs": [
        {
          "output_type": "execute_result",
          "data": {
            "text/plain": [
              "['daisy', 'tulip', 'sunflower', 'rose', 'dandelion']"
            ]
          },
          "metadata": {},
          "execution_count": 8
        }
      ]
    },
    {
      "cell_type": "code",
      "source": [
        "#check validation directory\n",
        "validation_set = os.path.join(destination_dir, 'validation')\n",
        "os.listdir(validation_set)"
      ],
      "metadata": {
        "colab": {
          "base_uri": "https://localhost:8080/"
        },
        "id": "h09Dgq6Ozvgv",
        "outputId": "8e43d6d6-3f16-4204-ed8b-ea68c952a0b8"
      },
      "execution_count": 9,
      "outputs": [
        {
          "output_type": "execute_result",
          "data": {
            "text/plain": [
              "['daisy', 'tulip', 'sunflower', 'rose', 'dandelion']"
            ]
          },
          "metadata": {},
          "execution_count": 9
        }
      ]
    },
    {
      "cell_type": "markdown",
      "source": [
        "# Data Preprocessing"
      ],
      "metadata": {
        "id": "6_jkYzUqot-Y"
      }
    },
    {
      "cell_type": "markdown",
      "source": [
        "## Augmentation"
      ],
      "metadata": {
        "id": "0oQoD4yEEkWS"
      }
    },
    {
      "cell_type": "code",
      "source": [
        "training_datagen = ImageDataGenerator(\n",
        "    rescale = 1./125,\n",
        "    rotation_range=40,\n",
        "    width_shift_range=0.2,\n",
        "    height_shift_range=0.2,\n",
        "    shear_range=0.2,\n",
        "    zoom_range=0.2,\n",
        "    horizontal_flip=True,\n",
        "    fill_mode='nearest'\n",
        ")\n",
        "\n",
        "validation_datagen = ImageDataGenerator(\n",
        "    rescale = 1./125,\n",
        ")\n"
      ],
      "metadata": {
        "id": "XWs_ginuzkMQ"
      },
      "execution_count": 10,
      "outputs": []
    },
    {
      "cell_type": "code",
      "source": [
        "training_generator = training_datagen.flow_from_directory(\n",
        "    training_set,\n",
        "    target_size = (150, 150),\n",
        "    batch_size = 32,\n",
        "    color_mode = \"rgb\",\n",
        "    class_mode = 'categorical'\n",
        ")\n",
        "validation_generator = validation_datagen.flow_from_directory(\n",
        "    validation_set,\n",
        "    target_size = (150, 150),\n",
        "    batch_size = 32,\n",
        "    color_mode = \"rgb\",\n",
        "    class_mode = 'categorical'\n",
        ")"
      ],
      "metadata": {
        "colab": {
          "base_uri": "https://localhost:8080/"
        },
        "id": "U8e4SZ-40zN3",
        "outputId": "3f228c82-2fcf-4b28-ae83-760ff9edeb54"
      },
      "execution_count": 11,
      "outputs": [
        {
          "output_type": "stream",
          "name": "stdout",
          "text": [
            "Found 3453 images belonging to 5 classes.\n",
            "Found 864 images belonging to 5 classes.\n"
          ]
        }
      ]
    },
    {
      "cell_type": "markdown",
      "source": [
        "# Model Selection"
      ],
      "metadata": {
        "id": "Hd5RbN2ZovyM"
      }
    },
    {
      "cell_type": "markdown",
      "source": [
        "## Sequential"
      ],
      "metadata": {
        "id": "_nlFuqmq1GCT"
      }
    },
    {
      "cell_type": "code",
      "source": [
        "tf.keras.backend.clear_session()\n",
        "\n",
        "model = tf.keras.models.Sequential([\n",
        "    tf.keras.layers.Conv2D(32, (3, 3), activation = 'relu', input_shape = (150, 150, 3)),\n",
        "    tf.keras.layers.MaxPooling2D(2, 2),\n",
        "    tf.keras.layers.Conv2D(64, (3, 3), activation = 'relu'),\n",
        "    tf.keras.layers.MaxPooling2D(2, 2),\n",
        "    tf.keras.layers.Conv2D(128, (3, 3), activation = 'relu'),\n",
        "    tf.keras.layers.MaxPooling2D(2, 2),\n",
        "    tf.keras.layers.Conv2D(128, (3, 3), activation = 'relu'),\n",
        "    tf.keras.layers.MaxPooling2D(2, 2),\n",
        "    tf.keras.layers.Flatten(),\n",
        "    tf.keras.layers.Dense(units = 128, activation = 'relu'),\n",
        "    tf.keras.layers.Dense(units = 128, activation = 'relu'),\n",
        "    tf.keras.layers.Dropout(0.2),\n",
        "    tf.keras.layers.Dense(units = 5, activation = 'softmax')\n",
        "])\n",
        "\n",
        "model.summary()"
      ],
      "metadata": {
        "colab": {
          "base_uri": "https://localhost:8080/"
        },
        "id": "K6BkBRL71ILk",
        "outputId": "74563787-7f1a-44ee-bb76-6f95cea2ddea"
      },
      "execution_count": 12,
      "outputs": [
        {
          "output_type": "stream",
          "name": "stdout",
          "text": [
            "Model: \"sequential\"\n",
            "_________________________________________________________________\n",
            " Layer (type)                Output Shape              Param #   \n",
            "=================================================================\n",
            " conv2d (Conv2D)             (None, 148, 148, 32)      896       \n",
            "                                                                 \n",
            " max_pooling2d (MaxPooling2D  (None, 74, 74, 32)       0         \n",
            " )                                                               \n",
            "                                                                 \n",
            " conv2d_1 (Conv2D)           (None, 72, 72, 64)        18496     \n",
            "                                                                 \n",
            " max_pooling2d_1 (MaxPooling  (None, 36, 36, 64)       0         \n",
            " 2D)                                                             \n",
            "                                                                 \n",
            " conv2d_2 (Conv2D)           (None, 34, 34, 128)       73856     \n",
            "                                                                 \n",
            " max_pooling2d_2 (MaxPooling  (None, 17, 17, 128)      0         \n",
            " 2D)                                                             \n",
            "                                                                 \n",
            " conv2d_3 (Conv2D)           (None, 15, 15, 128)       147584    \n",
            "                                                                 \n",
            " max_pooling2d_3 (MaxPooling  (None, 7, 7, 128)        0         \n",
            " 2D)                                                             \n",
            "                                                                 \n",
            " flatten (Flatten)           (None, 6272)              0         \n",
            "                                                                 \n",
            " dense (Dense)               (None, 128)               802944    \n",
            "                                                                 \n",
            " dense_1 (Dense)             (None, 128)               16512     \n",
            "                                                                 \n",
            " dropout (Dropout)           (None, 128)               0         \n",
            "                                                                 \n",
            " dense_2 (Dense)             (None, 5)                 645       \n",
            "                                                                 \n",
            "=================================================================\n",
            "Total params: 1,060,933\n",
            "Trainable params: 1,060,933\n",
            "Non-trainable params: 0\n",
            "_________________________________________________________________\n"
          ]
        }
      ]
    },
    {
      "cell_type": "code",
      "source": [
        "model.compile(optimizer='adam',\n",
        "              loss='categorical_crossentropy',\n",
        "              metrics=['accuracy'])"
      ],
      "metadata": {
        "id": "ho-0pce81KQ5"
      },
      "execution_count": 13,
      "outputs": []
    },
    {
      "cell_type": "markdown",
      "source": [
        "## Callbacks"
      ],
      "metadata": {
        "id": "HiKKrWF51Vds"
      }
    },
    {
      "cell_type": "code",
      "source": [
        "filepath=\"weights-improvement-{epoch:02d}-{val_accuracy:.2f}.hdf5\"\n",
        "model_checkpoint = tf.keras.callbacks.ModelCheckpoint(\n",
        "    filepath, monitor='val_loss',\n",
        "    verbose=0,\n",
        "    save_best_only=True,\n",
        "    mode='auto'\n",
        ")\n",
        "\n",
        "early_stopping = tf.keras.callbacks.EarlyStopping(\n",
        "    monitor=\"val_loss\",\n",
        "    min_delta=0,\n",
        "    patience=10,\n",
        "    verbose=0,\n",
        "    mode=\"auto\",\n",
        "    baseline=None,\n",
        "    restore_best_weights=True\n",
        ")"
      ],
      "metadata": {
        "id": "MOurx0wg1XMP"
      },
      "execution_count": 14,
      "outputs": []
    },
    {
      "cell_type": "markdown",
      "source": [
        "# Model Training"
      ],
      "metadata": {
        "id": "H65FBDaBoxpW"
      }
    },
    {
      "cell_type": "code",
      "source": [
        "EPOCHS = 50\n",
        "\n",
        "start = time.time()\n",
        "history = model.fit(training_generator,\n",
        "                    epochs=EPOCHS,\n",
        "                    callbacks=[model_checkpoint, early_stopping],\n",
        "                    validation_data=validation_generator,\n",
        "                    verbose = 1)\n",
        "stop = time.time()"
      ],
      "metadata": {
        "colab": {
          "base_uri": "https://localhost:8080/"
        },
        "id": "8PAkQ7vS1dy5",
        "outputId": "8b18f13f-8b42-45ff-8a61-1e63a2166d18"
      },
      "execution_count": 15,
      "outputs": [
        {
          "output_type": "stream",
          "name": "stdout",
          "text": [
            "Epoch 1/50\n",
            "108/108 [==============================] - 41s 298ms/step - loss: 1.3495 - accuracy: 0.4037 - val_loss: 1.2205 - val_accuracy: 0.4329\n",
            "Epoch 2/50\n",
            "108/108 [==============================] - 27s 250ms/step - loss: 1.1748 - accuracy: 0.4868 - val_loss: 1.0883 - val_accuracy: 0.5602\n",
            "Epoch 3/50\n",
            "108/108 [==============================] - 27s 248ms/step - loss: 1.0543 - accuracy: 0.5621 - val_loss: 0.9286 - val_accuracy: 0.6331\n",
            "Epoch 4/50\n",
            "108/108 [==============================] - 29s 265ms/step - loss: 0.9655 - accuracy: 0.6073 - val_loss: 0.8733 - val_accuracy: 0.6539\n",
            "Epoch 5/50\n",
            "108/108 [==============================] - 27s 247ms/step - loss: 0.9390 - accuracy: 0.6293 - val_loss: 0.9039 - val_accuracy: 0.6308\n",
            "Epoch 6/50\n",
            "108/108 [==============================] - 27s 247ms/step - loss: 0.9006 - accuracy: 0.6487 - val_loss: 0.7580 - val_accuracy: 0.7025\n",
            "Epoch 7/50\n",
            "108/108 [==============================] - 27s 248ms/step - loss: 0.8575 - accuracy: 0.6704 - val_loss: 0.8090 - val_accuracy: 0.6991\n",
            "Epoch 8/50\n",
            "108/108 [==============================] - 27s 247ms/step - loss: 0.8404 - accuracy: 0.6687 - val_loss: 0.7794 - val_accuracy: 0.6863\n",
            "Epoch 9/50\n",
            "108/108 [==============================] - 27s 247ms/step - loss: 0.8130 - accuracy: 0.6907 - val_loss: 0.7151 - val_accuracy: 0.7164\n",
            "Epoch 10/50\n",
            "108/108 [==============================] - 27s 247ms/step - loss: 0.7838 - accuracy: 0.6977 - val_loss: 0.6975 - val_accuracy: 0.7292\n",
            "Epoch 11/50\n",
            "108/108 [==============================] - 27s 246ms/step - loss: 0.7573 - accuracy: 0.7116 - val_loss: 0.7520 - val_accuracy: 0.6979\n",
            "Epoch 12/50\n",
            "108/108 [==============================] - 26s 245ms/step - loss: 0.7691 - accuracy: 0.7173 - val_loss: 0.7437 - val_accuracy: 0.7095\n",
            "Epoch 13/50\n",
            "108/108 [==============================] - 28s 260ms/step - loss: 0.7309 - accuracy: 0.7240 - val_loss: 0.7167 - val_accuracy: 0.7153\n",
            "Epoch 14/50\n",
            "108/108 [==============================] - 27s 246ms/step - loss: 0.7175 - accuracy: 0.7298 - val_loss: 0.6921 - val_accuracy: 0.7303\n",
            "Epoch 15/50\n",
            "108/108 [==============================] - 27s 246ms/step - loss: 0.6988 - accuracy: 0.7420 - val_loss: 0.7271 - val_accuracy: 0.6921\n",
            "Epoch 16/50\n",
            "108/108 [==============================] - 27s 246ms/step - loss: 0.6715 - accuracy: 0.7440 - val_loss: 0.6211 - val_accuracy: 0.7650\n",
            "Epoch 17/50\n",
            "108/108 [==============================] - 27s 246ms/step - loss: 0.6683 - accuracy: 0.7530 - val_loss: 0.6342 - val_accuracy: 0.7569\n",
            "Epoch 18/50\n",
            "108/108 [==============================] - 26s 245ms/step - loss: 0.6444 - accuracy: 0.7567 - val_loss: 0.6272 - val_accuracy: 0.7812\n",
            "Epoch 19/50\n",
            "108/108 [==============================] - 27s 247ms/step - loss: 0.6483 - accuracy: 0.7660 - val_loss: 0.6828 - val_accuracy: 0.7292\n",
            "Epoch 20/50\n",
            "108/108 [==============================] - 27s 247ms/step - loss: 0.6454 - accuracy: 0.7562 - val_loss: 0.6007 - val_accuracy: 0.7766\n",
            "Epoch 21/50\n",
            "108/108 [==============================] - 27s 247ms/step - loss: 0.6314 - accuracy: 0.7648 - val_loss: 0.5834 - val_accuracy: 0.7870\n",
            "Epoch 22/50\n",
            "108/108 [==============================] - 28s 260ms/step - loss: 0.5952 - accuracy: 0.7732 - val_loss: 0.6063 - val_accuracy: 0.7685\n",
            "Epoch 23/50\n",
            "108/108 [==============================] - 27s 245ms/step - loss: 0.5911 - accuracy: 0.7822 - val_loss: 0.6952 - val_accuracy: 0.7639\n",
            "Epoch 24/50\n",
            "108/108 [==============================] - 26s 245ms/step - loss: 0.5814 - accuracy: 0.7845 - val_loss: 0.6933 - val_accuracy: 0.7685\n",
            "Epoch 25/50\n",
            "108/108 [==============================] - 36s 327ms/step - loss: 0.5588 - accuracy: 0.7921 - val_loss: 0.6138 - val_accuracy: 0.7662\n",
            "Epoch 26/50\n",
            "108/108 [==============================] - 26s 245ms/step - loss: 0.5382 - accuracy: 0.7950 - val_loss: 0.5503 - val_accuracy: 0.7870\n",
            "Epoch 27/50\n",
            "108/108 [==============================] - 27s 246ms/step - loss: 0.5331 - accuracy: 0.7976 - val_loss: 0.5507 - val_accuracy: 0.7882\n",
            "Epoch 28/50\n",
            "108/108 [==============================] - 26s 243ms/step - loss: 0.5326 - accuracy: 0.8048 - val_loss: 0.5121 - val_accuracy: 0.8113\n",
            "Epoch 29/50\n",
            "108/108 [==============================] - 27s 247ms/step - loss: 0.5250 - accuracy: 0.8048 - val_loss: 0.6115 - val_accuracy: 0.7743\n",
            "Epoch 30/50\n",
            "108/108 [==============================] - 28s 258ms/step - loss: 0.5252 - accuracy: 0.8036 - val_loss: 0.6016 - val_accuracy: 0.7859\n",
            "Epoch 31/50\n",
            "108/108 [==============================] - 27s 246ms/step - loss: 0.5037 - accuracy: 0.8222 - val_loss: 0.6584 - val_accuracy: 0.7708\n",
            "Epoch 32/50\n",
            "108/108 [==============================] - 26s 245ms/step - loss: 0.4849 - accuracy: 0.8155 - val_loss: 0.5549 - val_accuracy: 0.8171\n",
            "Epoch 33/50\n",
            "108/108 [==============================] - 27s 247ms/step - loss: 0.4788 - accuracy: 0.8265 - val_loss: 0.5368 - val_accuracy: 0.8079\n",
            "Epoch 34/50\n",
            "108/108 [==============================] - 27s 246ms/step - loss: 0.4800 - accuracy: 0.8283 - val_loss: 0.5675 - val_accuracy: 0.7963\n",
            "Epoch 35/50\n",
            "108/108 [==============================] - 26s 244ms/step - loss: 0.4643 - accuracy: 0.8248 - val_loss: 0.5077 - val_accuracy: 0.8137\n",
            "Epoch 36/50\n",
            "108/108 [==============================] - 27s 246ms/step - loss: 0.4416 - accuracy: 0.8309 - val_loss: 0.6334 - val_accuracy: 0.7766\n",
            "Epoch 37/50\n",
            "108/108 [==============================] - 26s 243ms/step - loss: 0.4581 - accuracy: 0.8355 - val_loss: 0.5553 - val_accuracy: 0.7986\n",
            "Epoch 38/50\n",
            "108/108 [==============================] - 26s 245ms/step - loss: 0.4450 - accuracy: 0.8300 - val_loss: 0.5020 - val_accuracy: 0.8113\n",
            "Epoch 39/50\n",
            "108/108 [==============================] - 28s 254ms/step - loss: 0.4290 - accuracy: 0.8375 - val_loss: 0.5778 - val_accuracy: 0.8079\n",
            "Epoch 40/50\n",
            "108/108 [==============================] - 27s 246ms/step - loss: 0.4212 - accuracy: 0.8482 - val_loss: 0.5197 - val_accuracy: 0.7998\n",
            "Epoch 41/50\n",
            "108/108 [==============================] - 27s 250ms/step - loss: 0.4208 - accuracy: 0.8433 - val_loss: 0.4789 - val_accuracy: 0.8183\n",
            "Epoch 42/50\n",
            "108/108 [==============================] - 27s 250ms/step - loss: 0.3951 - accuracy: 0.8532 - val_loss: 0.4763 - val_accuracy: 0.8426\n",
            "Epoch 43/50\n",
            "108/108 [==============================] - 27s 248ms/step - loss: 0.3919 - accuracy: 0.8540 - val_loss: 0.5130 - val_accuracy: 0.8148\n",
            "Epoch 44/50\n",
            "108/108 [==============================] - 27s 248ms/step - loss: 0.4125 - accuracy: 0.8523 - val_loss: 0.5396 - val_accuracy: 0.8044\n",
            "Epoch 45/50\n",
            "108/108 [==============================] - 27s 252ms/step - loss: 0.3919 - accuracy: 0.8500 - val_loss: 0.5681 - val_accuracy: 0.8206\n",
            "Epoch 46/50\n",
            "108/108 [==============================] - 27s 251ms/step - loss: 0.4124 - accuracy: 0.8526 - val_loss: 0.5104 - val_accuracy: 0.8356\n",
            "Epoch 47/50\n",
            "108/108 [==============================] - 28s 262ms/step - loss: 0.4254 - accuracy: 0.8494 - val_loss: 0.5050 - val_accuracy: 0.8264\n",
            "Epoch 48/50\n",
            "108/108 [==============================] - 27s 251ms/step - loss: 0.3701 - accuracy: 0.8694 - val_loss: 0.4821 - val_accuracy: 0.8333\n",
            "Epoch 49/50\n",
            "108/108 [==============================] - 27s 249ms/step - loss: 0.3533 - accuracy: 0.8726 - val_loss: 0.4884 - val_accuracy: 0.8333\n",
            "Epoch 50/50\n",
            "108/108 [==============================] - 27s 251ms/step - loss: 0.3478 - accuracy: 0.8705 - val_loss: 0.6011 - val_accuracy: 0.8148\n"
          ]
        }
      ]
    },
    {
      "cell_type": "code",
      "source": [
        "print(f'{stop-start}')"
      ],
      "metadata": {
        "colab": {
          "base_uri": "https://localhost:8080/"
        },
        "id": "8hZjWPX31kMk",
        "outputId": "4634b515-1e09-4ade-f4d8-69542890cbaf"
      },
      "execution_count": 16,
      "outputs": [
        {
          "output_type": "stream",
          "name": "stdout",
          "text": [
            "1394.8844685554504\n"
          ]
        }
      ]
    },
    {
      "cell_type": "markdown",
      "source": [
        "## Visualization of Accuracy and Loss"
      ],
      "metadata": {
        "id": "XRnYd9kx1hjh"
      }
    },
    {
      "cell_type": "code",
      "source": [
        "acc = history.history['accuracy']\n",
        "val_acc = history.history['val_accuracy']\n",
        "loss = history.history['loss']\n",
        "val_loss = history.history['val_loss']\n",
        "\n",
        "epochs = range(len(acc))\n",
        "\n",
        "plt.style.use('seaborn-whitegrid')\n",
        "plt.subplots(1, 2, figsize=[20, 5])\n",
        "plt.subplot(1,2,1)\n",
        "acc = plt.plot(epochs, acc, label='Training Accuracy')\n",
        "val_acc = plt.plot(epochs, val_acc, label='Validation Accuracy')\n",
        "plt.title('Training and Validation Accuracy')\n",
        "plt.legend(loc=0)\n",
        "plt.subplot(1,2,2)\n",
        "loss = plt.plot(epochs, loss, label='Training Loss')\n",
        "val_loss = plt.plot(epochs, val_loss, label='Validation Loss')\n",
        "plt.title('Training and Validation Loss')\n",
        "plt.legend(loc=0)\n",
        "\n",
        "plt.savefig('proposed_model.png')\n",
        "plt.show()"
      ],
      "metadata": {
        "colab": {
          "base_uri": "https://localhost:8080/",
          "height": 285
        },
        "id": "qTYb6V-l1phc",
        "outputId": "b2fef49e-920b-4da4-a8e2-c7f907fed7ad"
      },
      "execution_count": 17,
      "outputs": [
        {
          "output_type": "display_data",
          "data": {
            "text/plain": [
              "<Figure size 1440x360 with 2 Axes>"
            ],
            "image/png": "[encoded data removed]"
          },
          "metadata": {}
        }
      ]
    },
    {
      "cell_type": "markdown",
      "source": [
        "# Save the model"
      ],
      "metadata": {
        "id": "RxAwJ5mQ1qOO"
      }
    },
    {
      "cell_type": "code",
      "source": [
        "model.save_weights(\"flowers_classification_weights.h5\")\n",
        "model.save(\"flowers_classification.h5\")"
      ],
      "metadata": {
        "id": "qwLHKPEk1tOc"
      },
      "execution_count": 18,
      "outputs": []
    },
    {
      "cell_type": "markdown",
      "source": [
        "# TF-Lite"
      ],
      "metadata": {
        "id": "UCUyxHUa6TAt"
      }
    },
    {
      "cell_type": "code",
      "source": [
        "converter = tf.lite.TFLiteConverter.from_keras_model(model)\n",
        "tflite_model = converter.convert()\n",
        "\n",
        "with tf.io.gfile.GFile('model.tflite', 'wb') as f:\n",
        "  f.write(tflite_model)"
      ],
      "metadata": {
        "colab": {
          "base_uri": "https://localhost:8080/"
        },
        "id": "34UUpqQx9jli",
        "outputId": "a15ba601-17db-4732-c95a-a10b80ca24ed"
      },
      "execution_count": 19,
      "outputs": [
        {
          "output_type": "stream",
          "name": "stderr",
          "text": [
            "WARNING:absl:Found untraced functions such as _jit_compiled_convolution_op, _jit_compiled_convolution_op, _jit_compiled_convolution_op, _jit_compiled_convolution_op while saving (showing 4 of 4). These functions will not be directly callable after loading.\n"
          ]
        }
      ]
    },
    {
      "cell_type": "markdown",
      "source": [
        "# Classification"
      ],
      "metadata": {
        "id": "b-aP3cpJJta5"
      }
    },
    {
      "cell_type": "code",
      "source": [
        "from google.colab import files\n",
        "\n",
        "uploaded =  files.upload()\n",
        "\n",
        "for fn in uploaded.keys():\n",
        "    path = fn\n",
        "    img = load_img(path, target_size=(150,150))\n",
        "    imgplot = plt.imshow(img)\n",
        "    x = img_to_array(img)\n",
        "    x = np.expand_dims(x, axis=0)\n",
        "    img = np.vstack([x])\n",
        "\n",
        "    label = np.argmax(model.predict(img))\n",
        "    if label == 0:\n",
        "      print('Daisy')\n",
        "    elif label == 1:\n",
        "      print('Dandelion')\n",
        "    elif label == 2:\n",
        "      print('Rose')\n",
        "    elif label == 3:\n",
        "      print('Sunflower')\n",
        "    else:\n",
        "      print('Tulip')"
      ],
      "metadata": {
        "colab": {
          "base_uri": "https://localhost:8080/",
          "height": 359
        },
        "id": "W-zAggFjJvY4",
        "outputId": "8db98df7-dbc0-4268-af7a-dfdb54784f11"
      },
      "execution_count": 20,
      "outputs": [
        {
          "output_type": "display_data",
          "data": {
            "text/plain": [
              "<IPython.core.display.HTML object>"
            ],
            "text/html": [
              "\n",
              "     <input type=\"file\" id=\"files-10be1672-1c17-4143-8a49-8a089c8f5d4a\" name=\"files[]\" multiple disabled\n",
              "        style=\"border:none\" />\n",
              "     <output id=\"result-10be1672-1c17-4143-8a49-8a089c8f5d4a\">\n",
              "      Upload widget is only available when the cell has been executed in the\n",
              "      current browser session. Please rerun this cell to enable.\n",
              "      </output>\n",
              "      <script>// Copyright 2017 Google LLC\n",
              "//\n",
              "// Licensed under the Apache License, Version 2.0 (the \"License\");\n",
              "// you may not use this file except in compliance with the License.\n",
              "// You may obtain a copy of the License at\n",
              "//\n",
              "//      http://www.apache.org/licenses/LICENSE-2.0\n",
              "//\n",
              "// Unless required by applicable law or agreed to in writing, software\n",
              "// distributed under the License is distributed on an \"AS IS\" BASIS,\n",
              "// WITHOUT WARRANTIES OR CONDITIONS OF ANY KIND, either express or implied.\n",
              "// See the License for the specific language governing permissions and\n",
              "// limitations under the License.\n",
              "\n",
              "/**\n",
              " * @fileoverview Helpers for google.colab Python module.\n",
              " */\n",
              "(function(scope) {\n",
              "function span(text, styleAttributes = {}) {\n",
              "  const element = document.createElement('span');\n",
              "  element.textContent = text;\n",
              "  for (const key of Object.keys(styleAttributes)) {\n",
              "    element.style[key] = styleAttributes[key];\n",
              "  }\n",
              "  return element;\n",
              "}\n",
              "\n",
              "// Max number of bytes which will be uploaded at a time.\n",
              "const MAX_PAYLOAD_SIZE = 100 * 1024;\n",
              "\n",
              "function _uploadFiles(inputId, outputId) {\n",
              "  const steps = uploadFilesStep(inputId, outputId);\n",
              "  const outputElement = document.getElementById(outputId);\n",
              "  // Cache steps on the outputElement to make it available for the next call\n",
              "  // to uploadFilesContinue from Python.\n",
              "  outputElement.steps = steps;\n",
              "\n",
              "  return _uploadFilesContinue(outputId);\n",
              "}\n",
              "\n",
              "// This is roughly an async generator (not supported in the browser yet),\n",
              "// where there are multiple asynchronous steps and the Python side is going\n",
              "// to poll for completion of each step.\n",
              "// This uses a Promise to block the python side on completion of each step,\n",
              "// then passes the result of the previous step as the input to the next step.\n",
              "function _uploadFilesContinue(outputId) {\n",
              "  const outputElement = document.getElementById(outputId);\n",
              "  const steps = outputElement.steps;\n",
              "\n",
              "  const next = steps.next(outputElement.lastPromiseValue);\n",
              "  return Promise.resolve(next.value.promise).then((value) => {\n",
              "    // Cache the last promise value to make it available to the next\n",
              "    // step of the generator.\n",
              "    outputElement.lastPromiseValue = value;\n",
              "    return next.value.response;\n",
              "  });\n",
              "}\n",
              "\n",
              "/**\n",
              " * Generator function which is called between each async step of the upload\n",
              " * process.\n",
              " * @param {string} inputId Element ID of the input file picker element.\n",
              " * @param {string} outputId Element ID of the output display.\n",
              " * @return {!Iterable<!Object>} Iterable of next steps.\n",
              " */\n",
              "function* uploadFilesStep(inputId, outputId) {\n",
              "  const inputElement = document.getElementById(inputId);\n",
              "  inputElement.disabled = false;\n",
              "\n",
              "  const outputElement = document.getElementById(outputId);\n",
              "  outputElement.innerHTML = '';\n",
              "\n",
              "  const pickedPromise = new Promise((resolve) => {\n",
              "    inputElement.addEventListener('change', (e) => {\n",
              "      resolve(e.target.files);\n",
              "    });\n",
              "  });\n",
              "\n",
              "  const cancel = document.createElement('button');\n",
              "  inputElement.parentElement.appendChild(cancel);\n",
              "  cancel.textContent = 'Cancel upload';\n",
              "  const cancelPromise = new Promise((resolve) => {\n",
              "    cancel.onclick = () => {\n",
              "      resolve(null);\n",
              "    };\n",
              "  });\n",
              "\n",
              "  // Wait for the user to pick the files.\n",
              "  const files = yield {\n",
              "    promise: Promise.race([pickedPromise, cancelPromise]),\n",
              "    response: {\n",
              "      action: 'starting',\n",
              "    }\n",
              "  };\n",
              "\n",
              "  cancel.remove();\n",
              "\n",
              "  // Disable the input element since further picks are not allowed.\n",
              "  inputElement.disabled = true;\n",
              "\n",
              "  if (!files) {\n",
              "    return {\n",
              "      response: {\n",
              "        action: 'complete',\n",
              "      }\n",
              "    };\n",
              "  }\n",
              "\n",
              "  for (const file of files) {\n",
              "    const li = document.createElement('li');\n",
              "    li.append(span(file.name, {fontWeight: 'bold'}));\n",
              "    li.append(span(\n",
              "        `(${file.type || 'n/a'}) - ${file.size} bytes, ` +\n",
              "        `last modified: ${\n",
              "            file.lastModifiedDate ? file.lastModifiedDate.toLocaleDateString() :\n",
              "                                    'n/a'} - `));\n",
              "    const percent = span('0% done');\n",
              "    li.appendChild(percent);\n",
              "\n",
              "    outputElement.appendChild(li);\n",
              "\n",
              "    const fileDataPromise = new Promise((resolve) => {\n",
              "      const reader = new FileReader();\n",
              "      reader.onload = (e) => {\n",
              "        resolve(e.target.result);\n",
              "      };\n",
              "      reader.readAsArrayBuffer(file);\n",
              "    });\n",
              "    // Wait for the data to be ready.\n",
              "    let fileData = yield {\n",
              "      promise: fileDataPromise,\n",
              "      response: {\n",
              "        action: 'continue',\n",
              "      }\n",
              "    };\n",
              "\n",
              "    // Use a chunked sending to avoid message size limits. See b/62115660.\n",
              "    let position = 0;\n",
              "    do {\n",
              "      const length = Math.min(fileData.byteLength - position, MAX_PAYLOAD_SIZE);\n",
              "      const chunk = new Uint8Array(fileData, position, length);\n",
              "      position += length;\n",
              "\n",
              "      const base64 = btoa(String.fromCharCode.apply(null, chunk));\n",
              "      yield {\n",
              "        response: {\n",
              "          action: 'append',\n",
              "          file: file.name,\n",
              "          data: base64,\n",
              "        },\n",
              "      };\n",
              "\n",
              "      let percentDone = fileData.byteLength === 0 ?\n",
              "          100 :\n",
              "          Math.round((position / fileData.byteLength) * 100);\n",
              "      percent.textContent = `${percentDone}% done`;\n",
              "\n",
              "    } while (position < fileData.byteLength);\n",
              "  }\n",
              "\n",
              "  // All done.\n",
              "  yield {\n",
              "    response: {\n",
              "      action: 'complete',\n",
              "    }\n",
              "  };\n",
              "}\n",
              "\n",
              "scope.google = scope.google || {};\n",
              "scope.google.colab = scope.google.colab || {};\n",
              "scope.google.colab._files = {\n",
              "  _uploadFiles,\n",
              "  _uploadFilesContinue,\n",
              "};\n",
              "})(self);\n",
              "</script> "
            ]
          },
          "metadata": {}
        },
        {
          "output_type": "stream",
          "name": "stdout",
          "text": [
            "Saving 800px-Sunflower_sky_backdrop.webp to 800px-Sunflower_sky_backdrop.webp\n",
            "1/1 [==============================] - 0s 228ms/step\n",
            "Sunflower\n"
          ]
        },
        {
          "output_type": "display_data",
          "data": {
            "text/plain": [
              "<Figure size 432x288 with 1 Axes>"
            ],
            "image/png": "[encoded data removed]"
          },
          "metadata": {}
        }
      ]
    }
  ]
}